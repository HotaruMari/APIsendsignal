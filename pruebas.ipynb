{
 "cells": [
  {
   "cell_type": "code",
   "execution_count": null,
   "metadata": {},
   "outputs": [],
   "source": [
    "import requests\n",
    "\n",
    "\n",
    "#myjson = {\"key1\":\"value1\",\"key2\":\"value2\",\"key3\":\"value3\",\"key4\":\"value4\",\"key5\":\"value5\",\"key6\":\"value6\",\"key7\":\"value7\",\"key8\":\"value8\",\"keya1\":\"valuea1\",\"keya2\":\"valuea2\",\"keya3\":\"valuea3\",\"keya4\":\"valuea4\",\"keya5\":\"valuea5\",\"keya6\":\"valuea6\",\"keya7\":\"valuea7\",\"keya8\":\"valuea8\"}\n",
    "info = {\"key1\":\"value1\",\"key2\":\"value2\",\"key3\":\"value3\",\"key4\":\"value4\",\"key5\":\"value5\",\"key6\":\"value6\",\"key7\":\"value7\",\"key8\":\"value8\",\"keya1\":\"valuea1\",\"keya2\":\"valuea2\",\"keya3\":\"valuea3\",\"keya4\":\"valuea4\",\"keya5\":\"valuea5\",\"keya6\":\"valuea6\",\"keya7\":\"valuea7\",\"keya8\":\"valuea8\",\"keyb1\":\"valueb1\",\"keyb2\":\"valueb2\",\"keyb3\":\"valueb3\",\"keyb4\":\"valueb4\",\"keyb5\":\"valueb5\",\"keyb6\":\"valueb6\",\"keyb7\":\"valueb7\",\"keyb8\":\"valueb8\"}\n",
    "#myjson = {\"key1\":\"value1\",\"key2\":\"value2\",\"key3\":\"value3\",\"key4\":\"value4\",\"key5\":\"value5\",\"key6\":\"value6\",\"key7\":\"value7\",\"key8\":\"value8\"}\n",
    "\n",
    "#x = requests.post(url, json = myjson)\n",
    " "
   ]
  },
  {
   "cell_type": "code",
   "execution_count": 1,
   "metadata": {},
   "outputs": [
    {
     "data": {
      "text/plain": [
       "'{\"data\":{\"infosensor\":{\"ch1\":\"78\",\"ch2\":\"8882\",\"ch3\":\"333333\",\"ch4\":\"69\",\"ch5\":\"555\",\"ch6\":\"6\",\"ch7\":\"7\",\"ch8\":\"8\",\"ch11\":\"78\",\"ch12\":\"8882\",\"ch13\":\"333333\",\"ch14\":\"69\",\"ch15\":\"555\",\"ch16\":\"6\",\"ch17\":\"7777777777777777777\",\"ch81\":\"8\"}}}'"
      ]
     },
     "execution_count": 1,
     "metadata": {},
     "output_type": "execute_result"
    }
   ],
   "source": [
    "import requests\n",
    "import json\n",
    "url = 'https://apiomarsignal.fly.dev/sendMuestra'\n",
    "\n",
    "myjson = {\n",
    "  \"infosensor\": {\"ch1\":\"78\",\"ch2\":\"8882\",\"ch3\":\"333333\",\"ch4\":\"69\",\"ch5\":\"555\",\"ch6\":\"6\",\"ch7\":\"7\",\"ch8\":\"8\",\"ch11\":\"78\",\"ch12\":\"8882\",\"ch13\":\"333333\",\"ch14\":\"69\",\"ch15\":\"555\",\"ch16\":\"6\",\"ch17\":\"7777777777777777777\",\"ch81\":\"8\"}}\n",
    "\n",
    "myjson = json.dumps(myjson)\n",
    "x = requests.post(url, data = myjson).text\n",
    "x"
   ]
  },
  {
   "cell_type": "code",
   "execution_count": null,
   "metadata": {},
   "outputs": [],
   "source": [
    "info = eval(info)\n",
    "i = 0\n",
    "sentenciainicial = 'INSERT INTO libreria_signal (ch1,ch2,ch3,ch4,ch5,ch6,ch7,ch8) VALUES ('\n",
    "for v,k in info.items():\n",
    "    i = i+1   \n",
    "    if i<8: \n",
    "        sentenciainicial = sentenciainicial + k +','\n",
    "    elif i == 8:\n",
    "        sentenciainicial = sentenciainicial + k +'),('\n",
    "        i=0\n",
    "sentenciainicial = sentenciainicial[:-2] +';'"
   ]
  },
  {
   "cell_type": "code",
   "execution_count": null,
   "metadata": {},
   "outputs": [],
   "source": [
    "infon='{\"ch1\":\"1\",\"ch2\":\"2\",\"ch3\":\"3\",\"ch4\":\"4\",\"ch5\":\"5\",\"ch6\":\"6\",\"ch7\":\"7\",\"ch8\":\"8\"}'\n",
    "\n",
    "info = eval(infon)\n",
    "i = 0\n",
    "sentenciainicial = 'INSERT INTO libreria_signal (ch1,ch2,ch3,ch4,ch5,ch6,ch7,ch8) VALUES ('\n",
    "for v,k in info.items():\n",
    "    i = i+1   \n",
    "    if i<8: \n",
    "        sentenciainicial = sentenciainicial + k +','\n",
    "    elif i == 8:\n",
    "        sentenciainicial = sentenciainicial + k +'),('\n",
    "        i=0\n",
    "sentenciainicial = sentenciainicial[:-2] +';'"
   ]
  },
  {
   "cell_type": "code",
   "execution_count": null,
   "metadata": {},
   "outputs": [],
   "source": [
    "import urequests as requests\n",
    "import network\n",
    "import json\n",
    "\n",
    "def do_connect():\n",
    "    wlan = network.WLAN(network.STA_IF) # create station interface\n",
    "    wlan.active(True)   # activate the interface\n",
    "    if not wlan.isconnected(): #if station interface conect with a new one\n",
    "        print('connecting to network...')\n",
    "        wlan.connect('Marisenal', 'Mariesgenial')  # connect to an AP\n",
    "        while not wlan.isconnected(): #waiting conection\n",
    "            pass\n",
    "    print('network config:', wlan.ifconfig()) # get the interface's IP/netmask/gw/DNS addresses\n",
    "\n",
    "print('Starting connection')\n",
    "do_connect()\n",
    "print('Connected')\n",
    "# Define the remote file to retrieve\n",
    "url = 'https://apiomarsignal.fly.dev/sendMuestra'\n",
    "\n",
    "myjson = {\n",
    "  \"infosensor\": {\"ch1\":\"78\",\"ch2\":\"8882\",\"ch3\":\"333333\",\"ch4\":\"69\",\"ch5\":\"555\",\"ch6\":\"6\",\"ch7\":\"7\",\"ch8\":\"8\",\"ch11\":\"78\",\"ch12\":\"8882\",\"ch13\":\"333333\",\"ch14\":\"69\",\"ch15\":\"555\",\"ch16\":\"6\",\"ch17\":\"7777777777777777777\",\"ch81\":\"8\"}}\n",
    "\n",
    "myjson = json.dumps(myjson)\n",
    "requests.post(url, data = myjson)"
   ]
  },
  {
   "attachments": {},
   "cell_type": "markdown",
   "metadata": {},
   "source": [
    "# Cambio de función de conversión"
   ]
  },
  {
   "cell_type": "code",
   "execution_count": null,
   "metadata": {},
   "outputs": [],
   "source": []
  }
 ],
 "metadata": {
  "kernelspec": {
   "display_name": "Python 3",
   "language": "python",
   "name": "python3"
  },
  "language_info": {
   "codemirror_mode": {
    "name": "ipython",
    "version": 3
   },
   "file_extension": ".py",
   "mimetype": "text/x-python",
   "name": "python",
   "nbconvert_exporter": "python",
   "pygments_lexer": "ipython3",
   "version": "3.10.9"
  },
  "orig_nbformat": 4,
  "vscode": {
   "interpreter": {
    "hash": "0500ee97a5acf692a3fae68c042a7fe2448beaab5db2844a869d8b9e06d99759"
   }
  }
 },
 "nbformat": 4,
 "nbformat_minor": 2
}
