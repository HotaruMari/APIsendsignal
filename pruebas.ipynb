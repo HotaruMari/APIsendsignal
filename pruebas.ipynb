{
 "cells": [
  {
   "cell_type": "code",
   "execution_count": 7,
   "metadata": {},
   "outputs": [],
   "source": [
    "import requests\n",
    "\n",
    "#url = 'https://apisignal.fly.dev/sendMuestra?infodelsensor='\n",
    "\n",
    "url = 'https://sendsignalo.fly.dev/sendMuestra?infodelsensor=a'\n",
    "\n",
    "#myjson = {\"key1\":\"value1\",\"key2\":\"value2\",\"key3\":\"value3\",\"key4\":\"value4\",\"key5\":\"value5\",\"key6\":\"value6\",\"key7\":\"value7\",\"key8\":\"value8\",\"keya1\":\"valuea1\",\"keya2\":\"valuea2\",\"keya3\":\"valuea3\",\"keya4\":\"valuea4\",\"keya5\":\"valuea5\",\"keya6\":\"valuea6\",\"keya7\":\"valuea7\",\"keya8\":\"valuea8\"}\n",
    "info = {\"key1\":\"value1\",\"key2\":\"value2\",\"key3\":\"value3\",\"key4\":\"value4\",\"key5\":\"value5\",\"key6\":\"value6\",\"key7\":\"value7\",\"key8\":\"value8\",\"keya1\":\"valuea1\",\"keya2\":\"valuea2\",\"keya3\":\"valuea3\",\"keya4\":\"valuea4\",\"keya5\":\"valuea5\",\"keya6\":\"valuea6\",\"keya7\":\"valuea7\",\"keya8\":\"valuea8\",\"keyb1\":\"valueb1\",\"keyb2\":\"valueb2\",\"keyb3\":\"valueb3\",\"keyb4\":\"valueb4\",\"keyb5\":\"valueb5\",\"keyb6\":\"valueb6\",\"keyb7\":\"valueb7\",\"keyb8\":\"valueb8\"}\n",
    "#myjson = {\"key1\":\"value1\",\"key2\":\"value2\",\"key3\":\"value3\",\"key4\":\"value4\",\"key5\":\"value5\",\"key6\":\"value6\",\"key7\":\"value7\",\"key8\":\"value8\"}\n",
    "\n",
    "#x = requests.post(url, json = myjson)\n",
    " "
   ]
  },
  {
   "cell_type": "code",
   "execution_count": 14,
   "metadata": {},
   "outputs": [
    {
     "data": {
      "text/plain": [
       "'INSERT INTO libreria_signal (ch1,ch2,ch3,ch4,ch5,ch6,ch7,ch8) VALUES (value1,value2,value3,value4,value5,value6,value7,value8),(valuea1,valuea2,valuea3,valuea4,valuea5,valuea6,valuea7,valuea8),(valueb1,valueb2,valueb3,valueb4,valueb5,valueb6,valueb7,valueb8);'"
      ]
     },
     "execution_count": 14,
     "metadata": {},
     "output_type": "execute_result"
    }
   ],
   "source": [
    "info = {\"key1\":\"value1\",\"key2\":\"value2\",\"key3\":\"value3\",\"key4\":\"value4\",\"key5\":\"value5\",\"key6\":\"value6\",\"key7\":\"value7\",\"key8\":\"value8\",\"keya1\":\"valuea1\",\"keya2\":\"valuea2\",\"keya3\":\"valuea3\",\"keya4\":\"valuea4\",\"keya5\":\"valuea5\",\"keya6\":\"valuea6\",\"keya7\":\"valuea7\",\"keya8\":\"valuea8\",\"keyb1\":\"valueb1\",\"keyb2\":\"valueb2\",\"keyb3\":\"valueb3\",\"keyb4\":\"valueb4\",\"keyb5\":\"valueb5\",\"keyb6\":\"valueb6\",\"keyb7\":\"valueb7\",\"keyb8\":\"valueb8\"}\n",
    "i = 0\n",
    "sentenciainicial = \"INSERT INTO libreria_signal (ch1,ch2,ch3,ch4,ch5,ch6,ch7,ch8) VALUES (\"\n",
    "for v,k in info.items():\n",
    "    i = i+1   \n",
    "    if i<8: \n",
    "        sentenciainicial = sentenciainicial + k +\",\"\n",
    "    elif i == 8:\n",
    "        sentenciainicial = sentenciainicial + k +\"),(\"\n",
    "        i=0\n",
    "sentenciainicial = sentenciainicial[:-2] + \";\"\n",
    "sentenciainicial"
   ]
  },
  {
   "cell_type": "code",
   "execution_count": null,
   "metadata": {},
   "outputs": [],
   "source": [
    "url = 'https://sendsignalo.fly.dev/sendMuestra?infodelsensor=a'\n",
    "\n",
    "myjson = {\"key1\":\"value1\",\"key2\":\"value2\",\"key3\":\"value3\",\"key4\":\"value4\"}\n",
    "\n",
    "x = requests.post(url, json = myjson)"
   ]
  }
 ],
 "metadata": {
  "kernelspec": {
   "display_name": "Python 3",
   "language": "python",
   "name": "python3"
  },
  "language_info": {
   "codemirror_mode": {
    "name": "ipython",
    "version": 3
   },
   "file_extension": ".py",
   "mimetype": "text/x-python",
   "name": "python",
   "nbconvert_exporter": "python",
   "pygments_lexer": "ipython3",
   "version": "3.10.9"
  },
  "orig_nbformat": 4,
  "vscode": {
   "interpreter": {
    "hash": "0500ee97a5acf692a3fae68c042a7fe2448beaab5db2844a869d8b9e06d99759"
   }
  }
 },
 "nbformat": 4,
 "nbformat_minor": 2
}
